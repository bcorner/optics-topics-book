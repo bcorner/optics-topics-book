{
 "cells": [
  {
   "cell_type": "markdown",
   "id": "daf58cef-1c68-4de0-916c-b348ba2c4303",
   "metadata": {},
   "source": [
    "# Image Processing\n"
   ]
  },
  {
   "cell_type": "markdown",
   "id": "d6911b7c-fa01-45c7-b00c-64f9bbed4f36",
   "metadata": {},
   "source": [
    "## Section table of contents\n",
    "\n",
    "```{tableofcontents}\n",
    "```"
   ]
  },
  {
   "cell_type": "markdown",
   "id": "cb1027ad-6479-4c0a-957f-98c534db9e71",
   "metadata": {
    "tags": []
   },
   "source": [
    "## Image Data\n"
   ]
  },
  {
   "cell_type": "markdown",
   "id": "6495d32c-4945-4d33-b1d3-2e01e62c1216",
   "metadata": {},
   "source": [
    "box of numbers\n",
    "\n",
    "![lenna](../images/lenna.png)\n"
   ]
  },
  {
   "cell_type": "markdown",
   "id": "b58b6e05-8fad-418d-9d5c-b8e00c65c1be",
   "metadata": {},
   "source": [
    "## Filters/Kernels\n"
   ]
  },
  {
   "cell_type": "markdown",
   "id": "d6eb399c-7ce0-45f5-85b6-ddc60a99ccf2",
   "metadata": {},
   "source": [
    "## Convolution"
   ]
  },
  {
   "cell_type": "markdown",
   "id": "6ae635b7-c0e6-4d05-a04b-828f68b9f9ec",
   "metadata": {},
   "source": [
    "## Fourier Transform"
   ]
  },
  {
   "cell_type": "code",
   "execution_count": null,
   "id": "45625886-7bf7-4a24-8c5d-378a17865287",
   "metadata": {},
   "outputs": [],
   "source": []
  }
 ],
 "metadata": {
  "kernelspec": {
   "display_name": "Python 3 (ipykernel)",
   "language": "python",
   "name": "python3"
  },
  "language_info": {
   "codemirror_mode": {
    "name": "ipython",
    "version": 3
   },
   "file_extension": ".py",
   "mimetype": "text/x-python",
   "name": "python",
   "nbconvert_exporter": "python",
   "pygments_lexer": "ipython3",
   "version": "3.8.10"
  },
  "toc-showmarkdowntxt": false
 },
 "nbformat": 4,
 "nbformat_minor": 5
}
